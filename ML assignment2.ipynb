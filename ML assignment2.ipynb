{
 "cells": [
  {
   "cell_type": "markdown",
   "id": "0c3c217c",
   "metadata": {},
   "source": [
    "1. What is the concept of human learning? Please give two examples."
   ]
  },
  {
   "cell_type": "markdown",
   "id": "5b5e2690",
   "metadata": {},
   "source": [
    "A new born child is helpless at birth. He depends upon others. But in due course, he learns a number of things. He learns to crawl, stand, walk, run, eat, speak, dress etc. The process of learning continues till death. Even an adult during the course of his daily routine goes on learning and adding to his experience. Why does a person learn? He learns because he has to make adjustment in the changing environment. The stimulus from the environment is there on the one hand.\n",
    "for example :habits, skills, facts, etc. "
   ]
  },
  {
   "cell_type": "markdown",
   "id": "e8a0168e",
   "metadata": {},
   "source": [
    "2. What different forms of human learning are there? Are there any machine learning equivalents?"
   ]
  },
  {
   "cell_type": "markdown",
   "id": "ac96775b",
   "metadata": {},
   "source": [
    "The three major types of learning described by behavioral psychology are classical conditioning, operant conditioning, and observational learning.\n",
    "In machine learning there are supervised , Unsupervised and Reinforcement learning are euivalents to Human learning."
   ]
  },
  {
   "cell_type": "markdown",
   "id": "9cfde507",
   "metadata": {},
   "source": [
    "3. What is machine learning, and how does it work? What are the key responsibilities of machine\n",
    "learning?"
   ]
  },
  {
   "cell_type": "markdown",
   "id": "c8d71aec",
   "metadata": {},
   "source": [
    "Machine learning is a data analytics technique that teaches computers to do what comes naturally to humans and animals: learn from experience. Machine learning algorithms use computational methods to “learn” information directly from data without relying on a predetermined equation as a model."
   ]
  },
  {
   "cell_type": "markdown",
   "id": "bf7abb82",
   "metadata": {},
   "source": [
    "4. Define the terms &quot;penalty&quot; and &quot;reward&quot; in the context of reinforcement learning."
   ]
  },
  {
   "cell_type": "markdown",
   "id": "1fae8bcf",
   "metadata": {},
   "source": [
    "A reinforcement learning algorithm, which may also be referred to as an agent, learns by interacting with its environment. The agent receives rewards by performing correctly and penalties for performing incorrectly. The agent learns without intervention from a human by maximizing its reward and minimizing its penalty."
   ]
  },
  {
   "cell_type": "markdown",
   "id": "6903e93c",
   "metadata": {},
   "source": [
    "5. Explain the term &quot;learning as a search&quot;?"
   ]
  },
  {
   "cell_type": "markdown",
   "id": "6fdf4f2a",
   "metadata": {},
   "source": [
    " Learning can be viewed as a search through the space of all sentences in a concept description language for a sentence that best describes the data. Alternatively, it can be viewed as a search through all hypotheses in a hypothesis space."
   ]
  },
  {
   "cell_type": "markdown",
   "id": "04078e0d",
   "metadata": {},
   "source": [
    "6. What are the various goals of machine learning? What is the relationship between these and\n",
    "human learning?"
   ]
  },
  {
   "cell_type": "markdown",
   "id": "ed7d40df",
   "metadata": {},
   "source": [
    "The goal of machine learning, closely coupled with the goal of AI, is to achieve a thorough understanding about the nature of learning process (both human learning and other forms of learning), about the computational aspects of learning behaviors, and to implant the learning capability in computer systems.\n",
    "Humans acquire knowledge through experience either directly or shared by others. Machines acquire knowledge through experience shared in the form of past data. "
   ]
  },
  {
   "cell_type": "markdown",
   "id": "0a328f53",
   "metadata": {},
   "source": [
    "7. Illustrate the various elements of machine learning using a real-life illustration."
   ]
  },
  {
   "cell_type": "markdown",
   "id": "eafc538b",
   "metadata": {},
   "source": [
    "1) Search Engine Result Refining  \n",
    "2)  Product Recommendations    \n",
    "3)  Self-Driving Cars and Automated Transportation"
   ]
  },
  {
   "cell_type": "markdown",
   "id": "f1baaca5",
   "metadata": {},
   "source": [
    "8. Provide an example of the abstraction method."
   ]
  },
  {
   "cell_type": "markdown",
   "id": "037ae103",
   "metadata": {},
   "source": [
    "Making coffee with a coffee machine is a good example of abstraction. You need to know how to use your coffee machine to make coffee. You need to provide water and coffee beans, switch it on and select the kind of coffee you want to get."
   ]
  },
  {
   "cell_type": "markdown",
   "id": "ca2d1e41",
   "metadata": {},
   "source": [
    "9. What is the concept of generalization? What function does it play in the machine learning\n",
    "process?"
   ]
  },
  {
   "cell_type": "markdown",
   "id": "4aa8d83f",
   "metadata": {},
   "source": [
    "Generalization refers to your model's ability to adapt properly to new, previously unseen data, drawn from the same distribution as the one used to create the model. Develop intuition about overfitting. Determine whether a model is good or not. Divide a data set into a training set and a test set."
   ]
  },
  {
   "cell_type": "markdown",
   "id": "3497695c",
   "metadata": {},
   "source": [
    "10. What is classification, exactly? What are the main distinctions between classification and regression?"
   ]
  },
  {
   "cell_type": "markdown",
   "id": "20aa9823",
   "metadata": {},
   "source": [
    "Classification means it has a dichotomous output or Binary classification probelms. That the target variable has a Categorical output.\n",
    "\n",
    "\n",
    "The difference betweeen classification and regression is classification it has the output in categorical variable but in regression it has a continuous variable.\n",
    "\n",
    "In classification we need to classify the binary ouput with the help of bestfit line or sigmoid functio but in regression we create a bestfit line to a actual value."
   ]
  },
  {
   "cell_type": "markdown",
   "id": "e7444b26",
   "metadata": {},
   "source": [
    "11. What is regression, and how does it work? Give an example of a real-world problem that was\n",
    "solved using regression."
   ]
  },
  {
   "cell_type": "markdown",
   "id": "0cc444d1",
   "metadata": {},
   "source": [
    "Linear regression is a machine learning concept that is used to build or train the models for solving supervised learning problems related to predicting continuous numerical value. Supervised learning problems represent the class of the problems where the value (data) of the independent or predictor variable (features) and the dependent or response variables are already known. \n",
    "\n",
    "\n",
    "real life examples:\n",
    "\n",
    "Total amount of electricity comsuming(predictore variable) and the charge for consuming (responsive variable)\n",
    "\n",
    "\n",
    "\n"
   ]
  },
  {
   "cell_type": "markdown",
   "id": "5d20e0fa",
   "metadata": {},
   "source": [
    "12. Describe the clustering mechanism in detail."
   ]
  },
  {
   "cell_type": "markdown",
   "id": "af882724",
   "metadata": {},
   "source": [
    "Clustering is the task of dividing the population or data points into a number of groups such that data points in the same groups are more similar to other data points in the same group than those in other groups. In simple words, the aim is to segregate groups with similar traits and assign them into clusters."
   ]
  },
  {
   "cell_type": "markdown",
   "id": "03ad5c23",
   "metadata": {},
   "source": [
    "13. Make brief observations on two of the following topics:"
   ]
  },
  {
   "cell_type": "markdown",
   "id": "e2ebc53d",
   "metadata": {},
   "source": [
    "i. Machine learning algorithms are used\n",
    "\n",
    "\n",
    "At its most basic, machine learning uses programmed algorithms that receive and analyse input data to predict output values within an acceptable range. As new data is fed to these algorithms, they learn and optimise their operations to improve performance, developing ‘intelligence’ over time.\n",
    "\n",
    "There are four types of machine learning algorithms: supervised, semi-supervised, unsupervised and reinforcement.\n",
    "\n",
    "Supervised learning:\n",
    "\n",
    "1) Regression \n",
    "2) classification \n",
    "3)  forecasting\n",
    "\n",
    "unsupervised learning:\n",
    "\n",
    "\n",
    "1) clustering\n",
    "2) Dimension reduction\n"
   ]
  },
  {
   "cell_type": "markdown",
   "id": "a739712b",
   "metadata": {},
   "source": [
    "iv. Reinforcement learning is a form of learning based on positive reinforcement."
   ]
  },
  {
   "cell_type": "markdown",
   "id": "58b05f3e",
   "metadata": {},
   "source": [
    "In reinforcement learning, developers devise a method of rewarding desired behaviors and punishing negative behaviors. This method assigns positive values to the desired actions to encourage the agent and negative values to undesired behaviors. This programs the agent to seek long-term and maximum overall reward to achieve an optimal solution.\n",
    "\n",
    "These long-term goals help prevent the agent from stalling on lesser goals. With time, the agent learns to avoid the negative and seek the positive. This learning method has been adopted in artificial intelligence (AI) as a way of directing unsupervised machine learning through rewards and penalties."
   ]
  },
  {
   "cell_type": "code",
   "execution_count": null,
   "id": "a4cd5505",
   "metadata": {},
   "outputs": [],
   "source": []
  }
 ],
 "metadata": {
  "kernelspec": {
   "display_name": "Python 3 (ipykernel)",
   "language": "python",
   "name": "python3"
  },
  "language_info": {
   "codemirror_mode": {
    "name": "ipython",
    "version": 3
   },
   "file_extension": ".py",
   "mimetype": "text/x-python",
   "name": "python",
   "nbconvert_exporter": "python",
   "pygments_lexer": "ipython3",
   "version": "3.9.7"
  }
 },
 "nbformat": 4,
 "nbformat_minor": 5
}
