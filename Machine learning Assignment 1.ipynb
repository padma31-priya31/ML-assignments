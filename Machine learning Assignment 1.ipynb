{
 "cells": [
  {
   "cell_type": "markdown",
   "id": "40312bbe",
   "metadata": {},
   "source": [
    "1. What does one mean by the term \"machine learning\"?"
   ]
  },
  {
   "cell_type": "markdown",
   "id": "160a2441",
   "metadata": {},
   "source": [
    "Machine learning means a human which makes a Machine to do all manual things which are human doing . This is mean to be machine learning.A man make a machine to do all things instead of human."
   ]
  },
  {
   "cell_type": "markdown",
   "id": "a6f18a7e",
   "metadata": {},
   "source": [
    "2.Can you think of 4 distinct types of issues where it shines?"
   ]
  },
  {
   "cell_type": "markdown",
   "id": "e81f00bb",
   "metadata": {},
   "source": [
    "Four main challenges in Machine Learning include overfitting the data (using a model too complicated), underfitting the data (using a simple model), lacking in data and nonrepresentative data."
   ]
  },
  {
   "cell_type": "markdown",
   "id": "629f2323",
   "metadata": {},
   "source": [
    "3.What is a labeled training set, and how does it work?"
   ]
  },
  {
   "cell_type": "markdown",
   "id": "8a19bb6f",
   "metadata": {},
   "source": [
    "Labeled training dataset is used to fit the machine learning algorithms to train our dataset and then we used this trained model to predict the test data which gives us a output variable which we've trained in the model."
   ]
  },
  {
   "cell_type": "markdown",
   "id": "73ab9c45",
   "metadata": {},
   "source": [
    "4.What are the two most important tasks that are supervised?"
   ]
  },
  {
   "cell_type": "markdown",
   "id": "5cd0c6c1",
   "metadata": {},
   "source": [
    "The tow most important tasks are Regression and classification. In regression it has a output in a continuous variables whereas in classification it has a categorical variables"
   ]
  },
  {
   "cell_type": "markdown",
   "id": "20dcabc3",
   "metadata": {},
   "source": [
    "5.Can you think of four examples of unsupervised tasks"
   ]
  },
  {
   "cell_type": "markdown",
   "id": "a80e860b",
   "metadata": {},
   "source": [
    "Common unsupervised tasks include clustering, visualization, dimensionality reduction, and association rule learning."
   ]
  },
  {
   "cell_type": "markdown",
   "id": "26717d13",
   "metadata": {},
   "source": [
    "6.State the machine learning model that would be best to make a robot walk through various unfamiliar terrains?"
   ]
  },
  {
   "cell_type": "markdown",
   "id": "a4b6168c",
   "metadata": {},
   "source": [
    "The best Machine Learning algorithm to allow a robot to walk in unknown terrain is Reinforced Learning, where the robot can learn from response of the terrain to optimize itself."
   ]
  },
  {
   "cell_type": "markdown",
   "id": "bc1c202c",
   "metadata": {},
   "source": [
    "7.Which algorithm will you use to divide your customers into different groups?"
   ]
  },
  {
   "cell_type": "markdown",
   "id": "edb0b2ab",
   "metadata": {},
   "source": [
    "Clustering algorithm which means K-means clustering"
   ]
  },
  {
   "cell_type": "markdown",
   "id": "40fc3f8e",
   "metadata": {},
   "source": [
    "8.Will you consider the problem of spam detection to be a supervised or unsupervised learning problem?"
   ]
  },
  {
   "cell_type": "markdown",
   "id": "dd8461d7",
   "metadata": {},
   "source": [
    "It's depend on Supervised algorithm"
   ]
  },
  {
   "cell_type": "markdown",
   "id": "89bf82ed",
   "metadata": {},
   "source": [
    "9.What is the concept of an online learning system?"
   ]
  },
  {
   "cell_type": "markdown",
   "id": "7c8a3084",
   "metadata": {},
   "source": [
    "A learning system based on formalised teaching but with the help of electronic resources is known as E-learning. While teaching can be based in or out of the classrooms, the use of computers and the Internet forms the major component of E-learning."
   ]
  },
  {
   "cell_type": "markdown",
   "id": "e1fefadd",
   "metadata": {},
   "source": [
    "10.What is out-of-core learning, and how does it differ from core learning?"
   ]
  },
  {
   "cell_type": "markdown",
   "id": "c488b558",
   "metadata": {},
   "source": [
    "Out-of-core learning refers to a set of algorithms working with data that cannot fit into the memory of a single computer, but that can easily fit into some data storage such as a local hard disk or web repository."
   ]
  },
  {
   "cell_type": "markdown",
   "id": "0f40278e",
   "metadata": {},
   "source": [
    "11.What kind of learning algorithm makes predictions using a similarity measure?"
   ]
  },
  {
   "cell_type": "markdown",
   "id": "7ce98e84",
   "metadata": {},
   "source": [
    "This is called instance-based learning: the system learns the examples by heart, then generalizes to new cases using a similarity measure "
   ]
  },
  {
   "cell_type": "markdown",
   "id": "b48c8276",
   "metadata": {},
   "source": [
    "12.What's the difference between a model parameter and a hyperparameter in a learning algorithm?"
   ]
  },
  {
   "cell_type": "markdown",
   "id": "48938813",
   "metadata": {},
   "source": [
    "model parameters are estimated from data automatically and model hyperparameters are set manually and are used in processes to help estimate model parameters. Model hyperparameters are often referred to as parameters because they are the parts of the machine learning that must be set manually and tuned."
   ]
  },
  {
   "cell_type": "markdown",
   "id": "6e797d01",
   "metadata": {},
   "source": [
    "13.What are the criteria that model-based learning algorithms look for? What is the most popular method they use to achieve success? What method do they use to make predictions?"
   ]
  },
  {
   "cell_type": "markdown",
   "id": "05e0824b",
   "metadata": {},
   "source": [
    "How do they make predictions? Model based learning algorithm search for the optimal value of parameters in a model that will give the best results for the new instances. We often use a cost function or similar to determine what the parameter value has to be in order to minimize the function"
   ]
  },
  {
   "cell_type": "markdown",
   "id": "3ecf1928",
   "metadata": {},
   "source": [
    "14.Can you name four of the most important Machine Learning challenges?"
   ]
  },
  {
   "cell_type": "markdown",
   "id": "0a17071b",
   "metadata": {},
   "source": [
    "Four main challenges in Machine Learning include overfitting the data (using a model too complicated), underfitting the data (using a simple model), lacking in data and nonrepresentative data."
   ]
  },
  {
   "cell_type": "markdown",
   "id": "f2296271",
   "metadata": {},
   "source": [
    "15.What happens if the model performs well on the training data but fails to generalize the results to new situations? Can you think of three different options?"
   ]
  },
  {
   "cell_type": "markdown",
   "id": "539ae824",
   "metadata": {},
   "source": [
    "This may also be the stage when you detect overfitting or underfitting in your model—a model that performed wonderfully during training but fails to produce useful results during testing may be overfit."
   ]
  },
  {
   "cell_type": "markdown",
   "id": "cf393a06",
   "metadata": {},
   "source": [
    "16.What exactly is a test set, and why would you need one?"
   ]
  },
  {
   "cell_type": "markdown",
   "id": "315f5a84",
   "metadata": {},
   "source": [
    "Test set is majorly used to predict our output after when the model has trained with using our trained data. In test data we don't have any target variable we just have independent or a predictors."
   ]
  },
  {
   "cell_type": "markdown",
   "id": "1eeadf6f",
   "metadata": {},
   "source": [
    "17.What is a validation set's purpose?"
   ]
  },
  {
   "cell_type": "markdown",
   "id": "c064350e",
   "metadata": {},
   "source": [
    "Validation set - used for tuning a model"
   ]
  },
  {
   "cell_type": "markdown",
   "id": "feb0a898",
   "metadata": {},
   "source": [
    "18.What precisely is the train-dev kit, when will you need it, how do you put it to use?"
   ]
  },
  {
   "cell_type": "markdown",
   "id": "37536df7",
   "metadata": {},
   "source": [
    "The goal of dev-set is to rank the models in term of their accuracy and helps us decide which model to proceed further with. Using Dev set we rank all our models in terms of their accuracy and pick the best performing model."
   ]
  },
  {
   "cell_type": "markdown",
   "id": "de2bdae4",
   "metadata": {},
   "source": [
    "19.What could go wrong if you use the test set to tune hyperparameters?"
   ]
  },
  {
   "cell_type": "markdown",
   "id": "cf9357ef",
   "metadata": {},
   "source": [
    "If you use this data to choose hyperparameters, you actually give the model a chance to \"see\" the test data and to develop a bias towards this test data. Therefore, you actually lose the possibility to find out how good your model would actually be on unseen data (because it has already seen the test data)."
   ]
  },
  {
   "cell_type": "code",
   "execution_count": null,
   "id": "11abc44e",
   "metadata": {},
   "outputs": [],
   "source": []
  }
 ],
 "metadata": {
  "kernelspec": {
   "display_name": "Python 3 (ipykernel)",
   "language": "python",
   "name": "python3"
  },
  "language_info": {
   "codemirror_mode": {
    "name": "ipython",
    "version": 3
   },
   "file_extension": ".py",
   "mimetype": "text/x-python",
   "name": "python",
   "nbconvert_exporter": "python",
   "pygments_lexer": "ipython3",
   "version": "3.9.7"
  }
 },
 "nbformat": 4,
 "nbformat_minor": 5
}
